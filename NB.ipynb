{
 "cells": [
  {
   "cell_type": "markdown",
   "metadata": {},
   "source": [
    "# 朴素贝叶斯 "
   ]
  },
  {
   "cell_type": "markdown",
   "metadata": {},
   "source": [
    "## 1.高斯模型 "
   ]
  },
  {
   "cell_type": "code",
   "execution_count": 2,
   "metadata": {},
   "outputs": [],
   "source": [
    "from sklearn.naive_bayes import GaussianNB\n",
    "#高斯贝叶斯\n",
    "def train_model_GaussianNB():\n",
    "    pass\n",
    "    clf3 = GaussianNB()\n",
    "    clf3.fit(X[499:], y[499:])#训练模型\n",
    "    predict_labels = clf3.predict(X[0:499])\n",
    "    # 预测对了几个？\n",
    "    n = 0\n",
    "    for i in range(len(predict_labels)):\n",
    "        if (predict_labels[i] == y[i]):\n",
    "            n = n + 1\n",
    "    print(\"高斯贝叶斯:\")\n",
    "    # 正确率\n",
    "    print (n / 499.0)\n",
    "    # 混淆矩阵\n",
    "    confusion_matrix(y[0:499], predict_labels)\n",
    "    return"
   ]
  },
  {
   "cell_type": "markdown",
   "metadata": {},
   "source": [
    "## 2.多项式模型 "
   ]
  },
  {
   "cell_type": "code",
   "execution_count": 4,
   "metadata": {},
   "outputs": [],
   "source": [
    "from sklearn.naive_bayes import MultinomialNB\n",
    "#多项式贝叶斯\n",
    "def train_model_MultinomialNB():\n",
    "    pass\n",
    "    clf = MultinomialNB()\n",
    "    #训练模型\n",
    "    clf.fit(X[499:],y[499:])\n",
    "    #预测训练集\n",
    "    predict_labels = clf.predict(X[0:499])\n",
    "    #预测对了几个？\n",
    "    n = 0\n",
    "    for i in range(len(predict_labels)):\n",
    "        if(predict_labels[i] == y[i]):\n",
    "            n = n + 1\n",
    "    print(\"多项式贝叶斯:\")\n",
    "    #正确率\n",
    "    print (n/499.0)\n",
    "    #混淆矩阵\n",
    "    confusion_matrix(y[0:499], predict_labels)\n",
    "    return"
   ]
  },
  {
   "cell_type": "markdown",
   "metadata": {},
   "source": [
    "## 3.伯努利模型 "
   ]
  },
  {
   "cell_type": "code",
   "execution_count": 6,
   "metadata": {},
   "outputs": [],
   "source": [
    "from sklearn.naive_bayes import BernoulliNB\n",
    "#伯努利贝叶斯\n",
    "def train_model_BernoulliNB():\n",
    "    pass\n",
    "    clf2 = BernoulliNB()\n",
    "    clf2.fit(X[499:], y[499:])\n",
    "    predict_labels = clf2.predict(X[0:499])\n",
    "    # 预测对了几个？\n",
    "    n = 0\n",
    "    for i in range(len(predict_labels)):\n",
    "        if (predict_labels[i] == y[i]):\n",
    "            n = n + 1\n",
    "    print(\"伯努利贝叶斯:\")\n",
    "    # 正确率\n",
    "    print (n / 499.0)\n",
    "    # 混淆矩阵\n",
    "    confusion_matrix(y[0:499], predict_labels)\n",
    "    return\n",
    "### 参考资料 https://blog.csdn.net/u013710265/article/details/72780520"
   ]
  },
  {
   "cell_type": "markdown",
   "metadata": {},
   "source": [
    "## 朴素贝叶斯文本分类"
   ]
  },
  {
   "cell_type": "code",
   "execution_count": 7,
   "metadata": {},
   "outputs": [
    {
     "name": "stdout",
     "output_type": "stream",
     "text": [
      "['love', 'my', 'dalmation'] classified as:  0\n",
      "['stupid', 'garbage'] classified as:  1\n"
     ]
    }
   ],
   "source": [
    "from numpy import *\n",
    "import re\n",
    "import random\n",
    "\n",
    "def loadDataSet(): #创建样例数据\n",
    "    postingList = [['my', 'dog', 'has', 'flea', 'problems', 'help', 'please'],\n",
    "                   ['maybe', 'not', 'take', 'him', 'to', 'dog', 'park', 'stupid'],\n",
    "                   ['my', 'dalmation', 'is', 'so', 'cute', 'I', 'love', 'him'],\n",
    "                   ['stop', 'posting', 'stupid', 'worthless', 'garbage'],\n",
    "                   ['mr', 'licks', 'ate', 'my', 'steak', 'how', 'to', 'stop', 'him'],\n",
    "                   ['quit', 'buying', 'worthless', 'dog', 'food', 'stupid']]\n",
    "    classVec = [0, 1, 0, 1, 0, 1]  #1代表脏话\n",
    "    return postingList, classVec\n",
    "\n",
    "def createVocabList(dataSet):  #创建词库 这里就是直接把所有词去重后，当作词库\n",
    "    vocabSet = set([])\n",
    "    for document in dataSet:\n",
    "        vocabSet = vocabSet | set(document)\n",
    "    return list(vocabSet)\n",
    "\n",
    "def setOfWords2Vec(vocabList, inputSet):  #文本词向量。词库中每个词当作一个特征，文本中就该词，该词特征就是1，没有就是0\n",
    "    returnVec = [0] * len(vocabList)\n",
    "    for word in inputSet:\n",
    "        if word in vocabList:\n",
    "            returnVec[vocabList.index(word)] = 1\n",
    "        else:\n",
    "            print(\"the word: %s is not in my Vocabulary!\" % word)\n",
    "    return returnVec\n",
    "\n",
    "\n",
    "def trainNB0(trainMatrix, trainCategory):\n",
    "    numTrainDocs = len(trainMatrix)\n",
    "    numWords = len(trainMatrix[0])\n",
    "    pAbusive = sum(trainCategory) / float(numTrainDocs)\n",
    "    p0Num = ones(numWords) #防止某个类别计算出的概率为0，导致最后相乘都为0，所以初始词都赋值1，分母赋值为2.\n",
    "    p1Num = ones(numWords)\n",
    "    p0Denom = 2\n",
    "    p1Denom = 2\n",
    "    for i in range(numTrainDocs):\n",
    "        if trainCategory[i] == 1:\n",
    "            p1Num += trainMatrix[i]\n",
    "            p1Denom += sum(trainMatrix[i])\n",
    "        else:\n",
    "            p0Num += trainMatrix[i]\n",
    "            p0Denom += sum(trainMatrix[i])\n",
    "    p1Vect = log(p1Num / p1Denom)  #这里使用了Log函数，方便计算，因为最后是比较大小，所有对结果没有影响。\n",
    "    p0Vect = log(p0Num / p0Denom)\n",
    "    return p0Vect, p1Vect, pAbusive\n",
    "\n",
    "def classifyNB(vec2Classify,p0Vec,p1Vec,pClass1): #比较概率大小进行判断，\n",
    "    p1 = sum(vec2Classify*p1Vec)+log(pClass1)\n",
    "    p0 = sum(vec2Classify*p0Vec)+log(1-pClass1)\n",
    "    if p1>p0:\n",
    "        return 1\n",
    "    else:\n",
    "        return 0\n",
    "\n",
    "def testingNB():\n",
    "    listOPosts,listClasses = loadDataSet()\n",
    "    myVocabList = createVocabList(listOPosts)\n",
    "    trainMat=[]\n",
    "    for postinDoc in listOPosts:\n",
    "        trainMat.append(setOfWords2Vec(myVocabList, postinDoc))\n",
    "    p0V,p1V,pAb = trainNB0(array(trainMat),array(listClasses))\n",
    "    testEntry = ['love', 'my', 'dalmation'] # 测试数据\n",
    "    thisDoc = array(setOfWords2Vec(myVocabList, testEntry))\n",
    "    print(testEntry,'classified as: ',classifyNB(thisDoc,p0V,p1V,pAb))\n",
    "    testEntry = ['stupid', 'garbage'] # 测试数据\n",
    "    thisDoc = array(setOfWords2Vec(myVocabList, testEntry))\n",
    "    print(testEntry,'classified as: ',classifyNB(thisDoc,p0V,p1V,pAb))\n",
    "\n",
    "if __name__=='__main__':\n",
    "    testingNB()\n"
   ]
  },
  {
   "cell_type": "code",
   "execution_count": null,
   "metadata": {},
   "outputs": [],
   "source": []
  }
 ],
 "metadata": {
  "kernelspec": {
   "display_name": "Python 3",
   "language": "python",
   "name": "python3"
  },
  "language_info": {
   "codemirror_mode": {
    "name": "ipython",
    "version": 3
   },
   "file_extension": ".py",
   "mimetype": "text/x-python",
   "name": "python",
   "nbconvert_exporter": "python",
   "pygments_lexer": "ipython3",
   "version": "3.6.7"
  }
 },
 "nbformat": 4,
 "nbformat_minor": 2
}
